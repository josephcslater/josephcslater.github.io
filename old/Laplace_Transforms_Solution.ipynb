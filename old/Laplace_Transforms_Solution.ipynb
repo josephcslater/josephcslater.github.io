{
 "cells": [
  {
   "cell_type": "markdown",
   "metadata": {},
   "source": [
    "# Using Laplace Transforms to solve a linear differential equation in SymPy\n",
    "\n",
    "Consider solving \n",
    "\n",
    "$$3\\ddot{x}+30\\dot{x}+63x=4\\dot{g}(t)+6g(t)$$\n",
    "where \n",
    "$$g(t)=u_s(t)$$\n",
    "is the unit step function (Heaviside Function)\n",
    "and $x(0) = 4$ and $\\dot{x}(0)=7$. "
   ]
  },
  {
   "cell_type": "code",
   "execution_count": 12,
   "metadata": {
    "collapsed": false
   },
   "outputs": [],
   "source": [
    "%matplotlib inline\n",
    "from sympy.integrals.transforms import laplace_transform\n",
    "from sympy.integrals.transforms import inverse_laplace_transform\n",
    "from sympy import *\n",
    "import sympy as sympy\n",
    "from sympy.abc import a, t, x, s, X, g, G\n",
    "init_printing(use_unicode=True)"
   ]
  },
  {
   "cell_type": "code",
   "execution_count": 6,
   "metadata": {
    "collapsed": true
   },
   "outputs": [],
   "source": [
    "x, g, X = symbols('x g X', cls = Function)"
   ]
  },
  {
   "cell_type": "code",
   "execution_count": 7,
   "metadata": {
    "collapsed": true
   },
   "outputs": [],
   "source": [
    "x0 = 4\n",
    "v0 = 7"
   ]
  },
  {
   "cell_type": "code",
   "execution_count": 8,
   "metadata": {
    "collapsed": false
   },
   "outputs": [],
   "source": [
    "g = Heaviside(t) #This is just the step function"
   ]
  },
  {
   "cell_type": "code",
   "execution_count": 5,
   "metadata": {
    "collapsed": false
   },
   "outputs": [
    {
     "data": {
      "text/plain": [
       "(1/s, 0, True)"
      ]
     },
     "execution_count": 5,
     "metadata": {},
     "output_type": "execute_result"
    }
   ],
   "source": [
    "laplace_transform(Heaviside(t), t, s) # Checking the performance of the Laplace Transform Module"
   ]
  },
  {
   "cell_type": "code",
   "execution_count": 11,
   "metadata": {
    "collapsed": false
   },
   "outputs": [
    {
     "data": {
      "text/plain": [
       "(1/2, -oo, True)"
      ]
     },
     "execution_count": 11,
     "metadata": {},
     "output_type": "execute_result"
    }
   ],
   "source": [
    "laplace_transform(DiracDelta(t), t, s) # Checking the performance... this is wrong. Should get 1. "
   ]
  },
  {
   "cell_type": "code",
   "execution_count": 18,
   "metadata": {
    "collapsed": false
   },
   "outputs": [
    {
     "data": {
      "text/plain": [
       "(exp(-2*s), -oo, True)"
      ]
     },
     "execution_count": 18,
     "metadata": {},
     "output_type": "execute_result"
    }
   ],
   "source": [
    "laplace_transform(DiracDelta(t - 2), t, s) # right result"
   ]
  },
  {
   "cell_type": "code",
   "execution_count": 23,
   "metadata": {
    "collapsed": false
   },
   "outputs": [
    {
     "data": {
      "image/png": "[encoded data removed]",
      "text/latex": [
       "$$\\left(- \\theta\\left(a e^{i \\pi}\\right) + 1\\right) e^{- a s}$$"
      ],
      "text/plain": [
       "⎛           ⎛   ⅈ⋅π⎞    ⎞  -a⋅s\n",
       "⎝- Heaviside⎝a⋅ℯ   ⎠ + 1⎠⋅ℯ    "
      ]
     },
     "execution_count": 23,
     "metadata": {},
     "output_type": "execute_result"
    }
   ],
   "source": [
    "laplace_transform(DiracDelta(t - a), t, s)[0] # right result (theta(t) is a Heaviside function representation in SymPy)"
   ]
  },
  {
   "cell_type": "code",
   "execution_count": 22,
   "metadata": {
    "collapsed": false
   },
   "outputs": [
    {
     "data": {
      "image/png": "[encoded data removed]",
      "text/latex": [
       "$$e^{- 2 s}$$"
      ],
      "text/plain": [
       " -2⋅s\n",
       "ℯ    "
      ]
     },
     "execution_count": 22,
     "metadata": {},
     "output_type": "execute_result"
    }
   ],
   "source": [
    "laplace_transform(DiracDelta(t - a), t, s)[0].subs(a,2) # Looks good"
   ]
  },
  {
   "cell_type": "code",
   "execution_count": 24,
   "metadata": {
    "collapsed": false
   },
   "outputs": [
    {
     "data": {
      "image/png": "[encoded data removed]",
      "text/latex": [
       "$$e^{- s}$$"
      ],
      "text/plain": [
       " -s\n",
       "ℯ  "
      ]
     },
     "execution_count": 24,
     "metadata": {},
     "output_type": "execute_result"
    }
   ],
   "source": [
    "laplace_transform(DiracDelta(t - a), t, s)[0].subs(a,1) # Looks good"
   ]
  },
  {
   "cell_type": "code",
   "execution_count": 26,
   "metadata": {
    "collapsed": false
   },
   "outputs": [
    {
     "data": {
      "image/png": "[encoded data removed]",
      "text/latex": [
       "$$e^{- 1.0 \\cdot 10^{-7} s}$$"
      ],
      "text/plain": [
       " -1.0e-7⋅s\n",
       "ℯ         "
      ]
     },
     "execution_count": 26,
     "metadata": {},
     "output_type": "execute_result"
    }
   ],
   "source": [
    "laplace_transform(DiracDelta(t - a), t, s)[0].subs(a,0.0000001) # Looks to converge"
   ]
  },
  {
   "cell_type": "code",
   "execution_count": 28,
   "metadata": {
    "collapsed": false,
    "scrolled": true
   },
   "outputs": [
    {
     "data": {
      "image/png": "[encoded data removed]",
      "text/latex": [
       "$$0$$"
      ],
      "text/plain": [
       "0"
      ]
     },
     "execution_count": 28,
     "metadata": {},
     "output_type": "execute_result"
    }
   ],
   "source": [
    "laplace_transform(DiracDelta(t - a), t, s)[0].subs(a,-0.0000001) #So... here is the illusration. "
   ]
  },
  {
   "cell_type": "markdown",
   "metadata": {},
   "source": [
    "What's happening here is that SymPy currently takes the position that half the diract happens before zero, half after, so the result should only be half as big. I think I'm in a rather large crowd in saying that this isn't proper. It makes some theoretical sense, and is a wonderful math debate. However, given convention says that $\\delta(t)$ is fully captured by a Laplace transform with a result of $1$ (Mathematica, Maple, Matlab, every System Dynamics, Controls, and Signal Processing book I've ever read), SymPy is practically wrong. I'm hoping that they will change their minds. I am now a bit skeptical about using SymPy for my math work as the results of a simple conventional application don't match expected behavior consistent with other codes."
   ]
  },
  {
   "cell_type": "markdown",
   "metadata": {},
   "source": [
    "So we note that SymPy isn't taking the Laplace Transform properly here, so we need to avoid using this result. (we should have gotten 1) Valid as of 0.7.6.1"
   ]
  },
  {
   "cell_type": "code",
   "execution_count": 7,
   "metadata": {
    "collapsed": false
   },
   "outputs": [
    {
     "name": "stdout",
     "output_type": "stream",
     "text": [
      "0.7.6.1\n"
     ]
    }
   ],
   "source": [
    "print(sympy.__version__)"
   ]
  },
  {
   "cell_type": "markdown",
   "metadata": {},
   "source": [
    "The first line below would work if SymPy performed the Laplace Transform of the Dirac Delta correctly. Short of that,\n",
    "we manually insert the Laplace Transform of $g(t)$ and $\\dot{g}(t)$ where $g(t)=u(t)$."
   ]
  },
  {
   "cell_type": "code",
   "execution_count": 8,
   "metadata": {
    "collapsed": false
   },
   "outputs": [
    {
     "data": {
      "image/png": "[encoded data removed]",
      "text/latex": [
       "$$3 s^{2} X{\\left (s \\right )} + 30 s X{\\left (s \\right )} - 12 s + 63 X{\\left (s \\right )} - 141 = 4 + \\frac{6}{s}$$"
      ],
      "text/plain": [
       "   2                                               6\n",
       "3⋅s ⋅X(s) + 30⋅s⋅X(s) - 12⋅s + 63⋅X(s) - 141 = 4 + ─\n",
       "                                                   s"
      ]
     },
     "execution_count": 8,
     "metadata": {},
     "output_type": "execute_result"
    }
   ],
   "source": [
    "#eom  = Eq(3*(s**2 * X(s)-s*x0-v0)+30 * (s*X(s)-x0)+ 63 * X(s), laplace_transform( 4 * diff(g,t) + 6 * g, t, s, noconds = True))\n",
    "\n",
    "eom  = Eq(3*(s**2 * X(s)-s*x0-v0)+30 * (s*X(s)-x0)+ 63 * X(s), 4 * 1 + 6 * 1/s)\n",
    "eom"
   ]
  },
  {
   "cell_type": "code",
   "execution_count": 9,
   "metadata": {
    "collapsed": false
   },
   "outputs": [
    {
     "data": {
      "image/png": "[encoded data removed]",
      "text/latex": [
       "$$\\frac{12 s^{2} + 145 s + 6}{3 s \\left(s^{2} + 10 s + 21\\right)}$$"
      ],
      "text/plain": [
       "     2              \n",
       " 12⋅s  + 145⋅s + 6  \n",
       "────────────────────\n",
       "    ⎛ 2            ⎞\n",
       "3⋅s⋅⎝s  + 10⋅s + 21⎠"
      ]
     },
     "execution_count": 9,
     "metadata": {},
     "output_type": "execute_result"
    }
   ],
   "source": [
    "Xofs = solve(eom,X(s))\n",
    "Xofs[0]"
   ]
  },
  {
   "cell_type": "code",
   "execution_count": 10,
   "metadata": {
    "collapsed": false
   },
   "outputs": [
    {
     "data": {
      "image/png": "[encoded data removed]",
      "text/latex": [
       "$$\\frac{\\theta\\left(t\\right)}{84} \\left(8 e^{7 t} + 749 e^{4 t} - 421\\right) e^{- 7 t}$$"
      ],
      "text/plain": [
       "⎛   7⋅t        4⋅t      ⎞  -7⋅t             \n",
       "⎝8⋅ℯ    + 749⋅ℯ    - 421⎠⋅ℯ    ⋅Heaviside(t)\n",
       "────────────────────────────────────────────\n",
       "                     84                     "
      ]
     },
     "execution_count": 10,
     "metadata": {},
     "output_type": "execute_result"
    }
   ],
   "source": [
    "soln = inverse_laplace_transform(Xofs[0],s,t)\n",
    "soln"
   ]
  },
  {
   "cell_type": "code",
   "execution_count": 11,
   "metadata": {
    "collapsed": false,
    "scrolled": false
   },
   "outputs": [
    {
     "data": {
      "image/png": "[encoded data removed]",
      "text/latex": [
       "$$\\frac{2 \\theta\\left(t\\right)}{21} + \\frac{107 \\theta\\left(t\\right)}{12} e^{- 3 t} - \\frac{421 \\theta\\left(t\\right)}{84} e^{- 7 t}$$"
      ],
      "text/plain": [
       "                      -3⋅t                     -7⋅t             \n",
       "2⋅Heaviside(t)   107⋅ℯ    ⋅Heaviside(t)   421⋅ℯ    ⋅Heaviside(t)\n",
       "────────────── + ────────────────────── - ──────────────────────\n",
       "      21                   12                       84          "
      ]
     },
     "execution_count": 11,
     "metadata": {},
     "output_type": "execute_result"
    }
   ],
   "source": [
    "soln_simp = expand(soln)\n",
    "soln_simp"
   ]
  },
  {
   "cell_type": "code",
   "execution_count": 12,
   "metadata": {
    "collapsed": false,
    "scrolled": true
   },
   "outputs": [
    {
     "data": {
      "image/png": "[encoded data removed]",
      "text/latex": [
       "$$0.095238 \\theta\\left(t\\right) + 8.9167 e^{- 3 t} \\theta\\left(t\\right) - 5.0119 e^{- 7 t} \\theta\\left(t\\right)$$"
      ],
      "text/plain": [
       "                                -3⋅t                              -7⋅t        \n",
       "0.095238⋅Heaviside(t) + 8.9167⋅ℯ    ⋅Heaviside(t) - -5.0119⋅(-1)⋅ℯ    ⋅Heavisi\n",
       "\n",
       "     \n",
       "de(t)"
      ]
     },
     "execution_count": 12,
     "metadata": {},
     "output_type": "execute_result"
    }
   ],
   "source": [
    "N(soln_simp,5)"
   ]
  },
  {
   "cell_type": "markdown",
   "metadata": {},
   "source": [
    "Note that $\\theta(t)$ is SymPy's notation for a step function. This simply means the answer can't be used before $t=0$. "
   ]
  },
  {
   "cell_type": "code",
   "execution_count": null,
   "metadata": {
    "collapsed": true
   },
   "outputs": [],
   "source": []
  }
 ],
 "metadata": {
  "hide_input": false,
  "kernelspec": {
   "display_name": "Python 3",
   "language": "python",
   "name": "python3"
  },
  "language_info": {
   "codemirror_mode": {
    "name": "ipython",
    "version": 3
   },
   "file_extension": ".py",
   "mimetype": "text/x-python",
   "name": "python",
   "nbconvert_exporter": "python",
   "pygments_lexer": "ipython3",
   "version": "3.5.1"
  },
  "latex_envs": {
   "bibliofile": "biblio.bib",
   "cite_by": "apalike",
   "current_citInitial": 1,
   "eqLabelWithNumbers": true,
   "eqNumInitial": 0
  }
 },
 "nbformat": 4,
 "nbformat_minor": 0
}
