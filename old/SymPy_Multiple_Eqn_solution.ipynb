{
 "cells": [
  {
   "cell_type": "markdown",
   "metadata": {},
   "source": [
    "Solving a variant of problem 6.3, Gray, Costanzo, and Plesha, where kinetics are added (Intertias 1, 2, 3). (ME 3210 Quiz 2 2016)\n",
    "The problem statment is \"A Moment $M$ is applied to the right most gear (gear 3). Find the acceleration of the gear as a resuling moment presuming intertias $I_1, I_2, I_3$.\n",
    "\n",
    "<img src=\"Gears.png\">\n",
    "\n",
    "I am using Python 3.5 in iPython (now called JuPyter). The notebook is available by emailing me. "
   ]
  },
  {
   "cell_type": "code",
   "execution_count": 1,
   "metadata": {
    "collapsed": false
   },
   "outputs": [],
   "source": [
    "# import symbolic capability to Python\n",
    "from sympy import *"
   ]
  },
  {
   "cell_type": "code",
   "execution_count": 2,
   "metadata": {
    "collapsed": false
   },
   "outputs": [],
   "source": [
    "# print things all pretty\n",
    "from sympy.abc import *\n",
    "init_printing()"
   ]
  },
  {
   "cell_type": "code",
   "execution_count": 4,
   "metadata": {
    "collapsed": false
   },
   "outputs": [],
   "source": [
    "# Need to define variables as symbolic for sympy to use them. \n",
    "r_A, r_B, r_C, r_D, F_AB, F_DC, M= symbols(\"r_A r_B r_C r_D F_AB F_DC M\", real = True)"
   ]
  },
  {
   "cell_type": "code",
   "execution_count": 5,
   "metadata": {
    "collapsed": true
   },
   "outputs": [],
   "source": [
    "I_1, I_2, I_3 = symbols(\"I_1 I_2 I_3\", real = True)"
   ]
  },
  {
   "cell_type": "code",
   "execution_count": 6,
   "metadata": {
    "collapsed": true
   },
   "outputs": [],
   "source": [
    "theta_1, theta_2, theta_3 = symbols(\"theta_1 theta_2 theta_3\", real = True)"
   ]
  },
  {
   "cell_type": "markdown",
   "metadata": {},
   "source": [
    "Defining equations. In SymPy, and equation is an expression that is equal to zero. All terms must be brought to the same side in defining it. "
   ]
  },
  {
   "cell_type": "code",
   "execution_count": 35,
   "metadata": {
    "collapsed": false
   },
   "outputs": [
    {
     "data": {
      "image/png": "[encoded data removed]",
      "text/latex": [
       "$$F_{DC} r_{D} - I_{3} \\frac{d^{2}}{d t^{2}}  \\theta_{3}{\\left (t \\right )}$$"
      ],
      "text/plain": [
       "                2       \n",
       "               d        \n",
       "F_DC⋅r_D - I₃⋅───(θ₃(t))\n",
       "                2       \n",
       "              dt        "
      ]
     },
     "execution_count": 35,
     "metadata": {},
     "output_type": "execute_result"
    }
   ],
   "source": [
    "EA = F_DC *r_D  - I_3 * diff(theta_3(t),t,t)\n",
    "EA"
   ]
  },
  {
   "cell_type": "code",
   "execution_count": 36,
   "metadata": {
    "collapsed": false
   },
   "outputs": [
    {
     "data": {
      "image/png": "[encoded data removed]",
      "text/latex": [
       "$$F_{AB} r_{B} - F_{DC} r_{C} - I_{2} \\frac{d^{2}}{d t^{2}}  \\theta_{2}{\\left (t \\right )}$$"
      ],
      "text/plain": [
       "                           2       \n",
       "                          d        \n",
       "F_AB⋅r_B - F_DC⋅r_C - I₂⋅───(θ₂(t))\n",
       "                           2       \n",
       "                         dt        "
      ]
     },
     "execution_count": 36,
     "metadata": {},
     "output_type": "execute_result"
    }
   ],
   "source": [
    "EB = r_B* F_AB - r_C* F_DC - I_2 * diff(theta_2(t),t,t)\n",
    "EB"
   ]
  },
  {
   "cell_type": "code",
   "execution_count": 37,
   "metadata": {
    "collapsed": false
   },
   "outputs": [
    {
     "data": {
      "image/png": "[encoded data removed]",
      "text/latex": [
       "$$- F_{AB} r_{A} - I_{1} \\frac{d^{2}}{d t^{2}}  \\theta_{1}{\\left (t \\right )} + M$$"
      ],
      "text/plain": [
       "                 2           \n",
       "                d            \n",
       "-F_AB⋅r_A - I₁⋅───(θ₁(t)) + M\n",
       "                 2           \n",
       "               dt            "
      ]
     },
     "execution_count": 37,
     "metadata": {},
     "output_type": "execute_result"
    }
   ],
   "source": [
    "EC = r_A *(-F_AB) + M - I_1 * diff(theta_1(t),t,t)\n",
    "EC"
   ]
  },
  {
   "cell_type": "code",
   "execution_count": 38,
   "metadata": {
    "collapsed": false
   },
   "outputs": [
    {
     "data": {
      "image/png": "[encoded data removed]",
      "text/latex": [
       "$$- r_{C} \\frac{d^{2}}{d t^{2}}  \\theta_{2}{\\left (t \\right )} + r_{D} \\frac{d^{2}}{d t^{2}}  \\theta_{3}{\\left (t \\right )}$$"
      ],
      "text/plain": [
       "        2                2       \n",
       "       d                d        \n",
       "- r_C⋅───(θ₂(t)) + r_D⋅───(θ₃(t))\n",
       "        2                2       \n",
       "      dt               dt        "
      ]
     },
     "execution_count": 38,
     "metadata": {},
     "output_type": "execute_result"
    }
   ],
   "source": [
    "E1 = diff(theta_3(t),t,t)* r_D - diff(theta_2(t),t,t) *r_C\n",
    "E1"
   ]
  },
  {
   "cell_type": "code",
   "execution_count": 39,
   "metadata": {
    "collapsed": false
   },
   "outputs": [
    {
     "data": {
      "image/png": "[encoded data removed]",
      "text/latex": [
       "$$- r_{A} \\frac{d^{2}}{d t^{2}}  \\theta_{1}{\\left (t \\right )} + r_{B} \\frac{d^{2}}{d t^{2}}  \\theta_{2}{\\left (t \\right )}$$"
      ],
      "text/plain": [
       "        2                2       \n",
       "       d                d        \n",
       "- r_A⋅───(θ₁(t)) + r_B⋅───(θ₂(t))\n",
       "        2                2       \n",
       "      dt               dt        "
      ]
     },
     "execution_count": 39,
     "metadata": {},
     "output_type": "execute_result"
    }
   ],
   "source": [
    "E2 = r_B * diff(theta_2(t),t,t) - diff(theta_1(t),t,t) *r_A\n",
    "E2"
   ]
  },
  {
   "cell_type": "code",
   "execution_count": 40,
   "metadata": {
    "collapsed": false
   },
   "outputs": [
    {
     "data": {
      "image/png": "[encoded data removed]",
      "text/latex": [
       "$$\\left [ \\frac{F_{DC} r_{D}}{I_{3}}\\right ]$$"
      ],
      "text/plain": [
       "⎡F_DC⋅r_D⎤\n",
       "⎢────────⎥\n",
       "⎣   I₃   ⎦"
      ]
     },
     "execution_count": 40,
     "metadata": {},
     "output_type": "execute_result"
    }
   ],
   "source": [
    "solve(EA,diff(theta_3(t),t,t))"
   ]
  },
  {
   "cell_type": "code",
   "execution_count": 41,
   "metadata": {
    "collapsed": false
   },
   "outputs": [
    {
     "data": {
      "image/png": "[encoded data removed]",
      "text/latex": [
       "$$\\frac{1}{r_{B}} \\left(F_{DC} r_{C} + I_{2} \\frac{d^{2}}{d t^{2}}  \\theta_{2}{\\left (t \\right )}\\right)$$"
      ],
      "text/plain": [
       "                2       \n",
       "               d        \n",
       "F_DC⋅r_C + I₂⋅───(θ₂(t))\n",
       "                2       \n",
       "              dt        \n",
       "────────────────────────\n",
       "          r_B           "
      ]
     },
     "execution_count": 41,
     "metadata": {},
     "output_type": "execute_result"
    }
   ],
   "source": [
    "solve(EB,F_AB)[0]"
   ]
  },
  {
   "cell_type": "markdown",
   "metadata": {},
   "source": [
    "I'm going to do substitutions in stages, eliminating one variable at a time for clarity."
   ]
  },
  {
   "cell_type": "code",
   "execution_count": 42,
   "metadata": {
    "collapsed": false,
    "scrolled": true
   },
   "outputs": [
    {
     "data": {
      "image/png": "[encoded data removed]",
      "text/latex": [
       "$$- I_{1} \\frac{d^{2}}{d t^{2}}  \\theta_{1}{\\left (t \\right )} + M - \\frac{r_{A}}{r_{B}} \\left(F_{DC} r_{C} + I_{2} \\frac{d^{2}}{d t^{2}}  \\theta_{2}{\\left (t \\right )}\\right)$$"
      ],
      "text/plain": [
       "                          ⎛                2       ⎞\n",
       "                          ⎜               d        ⎟\n",
       "                      r_A⋅⎜F_DC⋅r_C + I₂⋅───(θ₂(t))⎟\n",
       "       2                  ⎜                2       ⎟\n",
       "      d                   ⎝              dt        ⎠\n",
       "- I₁⋅───(θ₁(t)) + M - ──────────────────────────────\n",
       "       2                           r_B              \n",
       "     dt                                             "
      ]
     },
     "execution_count": 42,
     "metadata": {},
     "output_type": "execute_result"
    }
   ],
   "source": [
    "step1 = EC.subs(F_AB, solve(EB,F_AB)[0])\n",
    "step1"
   ]
  },
  {
   "cell_type": "code",
   "execution_count": 43,
   "metadata": {
    "collapsed": false
   },
   "outputs": [
    {
     "data": {
      "image/png": "[encoded data removed]",
      "text/latex": [
       "$$- I_{1} \\frac{d^{2}}{d t^{2}}  \\theta_{1}{\\left (t \\right )} + M - \\frac{r_{A}}{r_{B}} \\left(I_{2} \\frac{d^{2}}{d t^{2}}  \\theta_{2}{\\left (t \\right )} + \\frac{I_{3} r_{C}}{r_{D}} \\frac{d^{2}}{d t^{2}}  \\theta_{3}{\\left (t \\right )}\\right)$$"
      ],
      "text/plain": [
       "                          ⎛                         2       ⎞\n",
       "                          ⎜                        d        ⎟\n",
       "                          ⎜                I₃⋅r_C⋅───(θ₃(t))⎟\n",
       "                          ⎜     2                   2       ⎟\n",
       "                          ⎜    d                  dt        ⎟\n",
       "                      r_A⋅⎜I₂⋅───(θ₂(t)) + ─────────────────⎟\n",
       "       2                  ⎜     2                 r_D       ⎟\n",
       "      d                   ⎝   dt                            ⎠\n",
       "- I₁⋅───(θ₁(t)) + M - ───────────────────────────────────────\n",
       "       2                                r_B                  \n",
       "     dt                                                      "
      ]
     },
     "execution_count": 43,
     "metadata": {},
     "output_type": "execute_result"
    }
   ],
   "source": [
    "step2 = step1.subs(F_DC,solve(EA,F_DC)[0])\n",
    "step2"
   ]
  },
  {
   "cell_type": "code",
   "execution_count": 44,
   "metadata": {
    "collapsed": false
   },
   "outputs": [
    {
     "data": {
      "image/png": "[encoded data removed]",
      "text/latex": [
       "$$- \\frac{I_{1} r_{B}}{r_{A}} \\frac{d^{2}}{d t^{2}}  \\theta_{2}{\\left (t \\right )} + M - \\frac{r_{A}}{r_{B}} \\left(I_{2} \\frac{d^{2}}{d t^{2}}  \\theta_{2}{\\left (t \\right )} + \\frac{I_{3} r_{C}}{r_{D}} \\frac{d^{2}}{d t^{2}}  \\theta_{3}{\\left (t \\right )}\\right)$$"
      ],
      "text/plain": [
       "                              ⎛                         2       ⎞\n",
       "                              ⎜                        d        ⎟\n",
       "                              ⎜                I₃⋅r_C⋅───(θ₃(t))⎟\n",
       "           2                  ⎜     2                   2       ⎟\n",
       "          d                   ⎜    d                  dt        ⎟\n",
       "  I₁⋅r_B⋅───(θ₂(t))       r_A⋅⎜I₂⋅───(θ₂(t)) + ─────────────────⎟\n",
       "           2                  ⎜     2                 r_D       ⎟\n",
       "         dt                   ⎝   dt                            ⎠\n",
       "- ───────────────── + M - ───────────────────────────────────────\n",
       "         r_A                                r_B                  "
      ]
     },
     "execution_count": 44,
     "metadata": {},
     "output_type": "execute_result"
    }
   ],
   "source": [
    "step3 = step2.subs(diff(theta_1(t),t,t),solve(E2,diff(theta_1(t),t,t))[0])\n",
    "step3"
   ]
  },
  {
   "cell_type": "code",
   "execution_count": 45,
   "metadata": {
    "collapsed": false
   },
   "outputs": [
    {
     "data": {
      "image/png": "[encoded data removed]",
      "text/latex": [
       "$$- \\frac{I_{1} r_{B} r_{D}}{r_{A} r_{C}} \\frac{d^{2}}{d t^{2}}  \\theta_{3}{\\left (t \\right )} + M - \\frac{r_{A}}{r_{B}} \\left(\\frac{I_{2} r_{D}}{r_{C}} \\frac{d^{2}}{d t^{2}}  \\theta_{3}{\\left (t \\right )} + \\frac{I_{3} r_{C}}{r_{D}} \\frac{d^{2}}{d t^{2}}  \\theta_{3}{\\left (t \\right )}\\right)$$"
      ],
      "text/plain": [
       "                                  ⎛         2                   2       ⎞\n",
       "                                  ⎜        d                   d        ⎟\n",
       "               2                  ⎜I₂⋅r_D⋅───(θ₃(t))   I₃⋅r_C⋅───(θ₃(t))⎟\n",
       "              d                   ⎜         2                   2       ⎟\n",
       "  I₁⋅r_B⋅r_D⋅───(θ₃(t))           ⎜       dt                  dt        ⎟\n",
       "               2              r_A⋅⎜───────────────── + ─────────────────⎟\n",
       "             dt                   ⎝       r_C                 r_D       ⎠\n",
       "- ───────────────────── + M - ───────────────────────────────────────────\n",
       "         r_A⋅r_C                                  r_B                    "
      ]
     },
     "execution_count": 45,
     "metadata": {},
     "output_type": "execute_result"
    }
   ],
   "source": [
    "step4 = step3.subs(diff(theta_2(t),t,t),solve(E1,diff(theta_2(t),t,t))[0])\n",
    "step4"
   ]
  },
  {
   "cell_type": "markdown",
   "metadata": {},
   "source": [
    "Finally, the acceleration of the right most gear as a function of the input moment"
   ]
  },
  {
   "cell_type": "code",
   "execution_count": 47,
   "metadata": {
    "collapsed": false
   },
   "outputs": [
    {
     "data": {
      "image/png": "[encoded data removed]",
      "text/latex": [
       "$$\\left [ \\frac{M r_{A} r_{B} r_{C} r_{D}}{I_{1} r_{B}^{2} r_{D}^{2} + I_{2} r_{A}^{2} r_{D}^{2} + I_{3} r_{A}^{2} r_{C}^{2}}\\right ]$$"
      ],
      "text/plain": [
       "⎡            M⋅r_A⋅r_B⋅r_C⋅r_D             ⎤\n",
       "⎢──────────────────────────────────────────⎥\n",
       "⎢      2    2         2    2         2    2⎥\n",
       "⎣I₁⋅r_B ⋅r_D  + I₂⋅r_A ⋅r_D  + I₃⋅r_A ⋅r_C ⎦"
      ]
     },
     "execution_count": 47,
     "metadata": {},
     "output_type": "execute_result"
    }
   ],
   "source": [
    "solve(step4,diff(theta_3(t),t,t))"
   ]
  },
  {
   "cell_type": "code",
   "execution_count": null,
   "metadata": {
    "collapsed": true
   },
   "outputs": [],
   "source": []
  }
 ],
 "metadata": {
  "hide_input": false,
  "kernelspec": {
   "display_name": "Python 3",
   "language": "python",
   "name": "python3"
  },
  "language_info": {
   "codemirror_mode": {
    "name": "ipython",
    "version": 3
   },
   "file_extension": ".py",
   "mimetype": "text/x-python",
   "name": "python",
   "nbconvert_exporter": "python",
   "pygments_lexer": "ipython3",
   "version": "3.5.1"
  },
  "latex_envs": {
   "bibliofile": "biblio.bib",
   "cite_by": "apalike",
   "current_citInitial": 1,
   "eqLabelWithNumbers": true,
   "eqNumInitial": 0
  }
 },
 "nbformat": 4,
 "nbformat_minor": 0
}
